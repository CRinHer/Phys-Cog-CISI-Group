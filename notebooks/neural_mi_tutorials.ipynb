{
 "cells": [
  {
   "cell_type": "markdown",
   "id": "084b293d",
   "metadata": {},
   "source": [
    "This notebook will contain the results of each tutorial from the NeuralMI webpage. "
   ]
  },
  {
   "cell_type": "code",
   "execution_count": 1,
   "id": "6fa95da6",
   "metadata": {},
   "outputs": [
    {
     "name": "stdout",
     "output_type": "stream",
     "text": [
      "Collecting git+https://github.com/eslam-abdelaleem/NeuralMI.git\n",
      "  Cloning https://github.com/eslam-abdelaleem/NeuralMI.git to c:\\users\\rinta\\appdata\\local\\temp\\pip-req-build-os8q0am9\n",
      "  Resolved https://github.com/eslam-abdelaleem/NeuralMI.git to commit 8cabb315bf69b31dc7e32f82c291afe1cef13135\n",
      "  Preparing metadata (setup.py): started\n",
      "  Preparing metadata (setup.py): finished with status 'done'\n",
      "Requirement already satisfied: torch in c:\\users\\rinta\\anaconda3\\lib\\site-packages (from neural_mi==1.0.0) (2.8.0)\n",
      "Requirement already satisfied: numpy in c:\\users\\rinta\\anaconda3\\lib\\site-packages (from neural_mi==1.0.0) (1.26.4)\n",
      "Requirement already satisfied: pandas in c:\\users\\rinta\\anaconda3\\lib\\site-packages (from neural_mi==1.0.0) (2.2.2)\n",
      "Requirement already satisfied: statsmodels in c:\\users\\rinta\\anaconda3\\lib\\site-packages (from neural_mi==1.0.0) (0.14.2)\n",
      "Requirement already satisfied: scikit-learn in c:\\users\\rinta\\anaconda3\\lib\\site-packages (from neural_mi==1.0.0) (1.5.1)\n",
      "Requirement already satisfied: tqdm in c:\\users\\rinta\\anaconda3\\lib\\site-packages (from neural_mi==1.0.0) (4.66.5)\n",
      "Requirement already satisfied: matplotlib in c:\\users\\rinta\\anaconda3\\lib\\site-packages (from neural_mi==1.0.0) (3.9.2)\n",
      "Requirement already satisfied: seaborn in c:\\users\\rinta\\anaconda3\\lib\\site-packages (from neural_mi==1.0.0) (0.13.2)\n",
      "Requirement already satisfied: contourpy>=1.0.1 in c:\\users\\rinta\\anaconda3\\lib\\site-packages (from matplotlib->neural_mi==1.0.0) (1.2.0)\n",
      "Requirement already satisfied: cycler>=0.10 in c:\\users\\rinta\\anaconda3\\lib\\site-packages (from matplotlib->neural_mi==1.0.0) (0.11.0)\n",
      "Requirement already satisfied: fonttools>=4.22.0 in c:\\users\\rinta\\anaconda3\\lib\\site-packages (from matplotlib->neural_mi==1.0.0) (4.51.0)\n",
      "Requirement already satisfied: kiwisolver>=1.3.1 in c:\\users\\rinta\\anaconda3\\lib\\site-packages (from matplotlib->neural_mi==1.0.0) (1.4.4)\n",
      "Requirement already satisfied: packaging>=20.0 in c:\\users\\rinta\\anaconda3\\lib\\site-packages (from matplotlib->neural_mi==1.0.0) (24.1)\n",
      "Requirement already satisfied: pillow>=8 in c:\\users\\rinta\\anaconda3\\lib\\site-packages (from matplotlib->neural_mi==1.0.0) (10.4.0)\n",
      "Requirement already satisfied: pyparsing>=2.3.1 in c:\\users\\rinta\\anaconda3\\lib\\site-packages (from matplotlib->neural_mi==1.0.0) (3.1.2)\n",
      "Requirement already satisfied: python-dateutil>=2.7 in c:\\users\\rinta\\anaconda3\\lib\\site-packages (from matplotlib->neural_mi==1.0.0) (2.9.0.post0)\n",
      "Requirement already satisfied: pytz>=2020.1 in c:\\users\\rinta\\anaconda3\\lib\\site-packages (from pandas->neural_mi==1.0.0) (2024.1)\n",
      "Requirement already satisfied: tzdata>=2022.7 in c:\\users\\rinta\\anaconda3\\lib\\site-packages (from pandas->neural_mi==1.0.0) (2023.3)\n",
      "Requirement already satisfied: scipy>=1.6.0 in c:\\users\\rinta\\anaconda3\\lib\\site-packages (from scikit-learn->neural_mi==1.0.0) (1.13.1)\n",
      "Requirement already satisfied: joblib>=1.2.0 in c:\\users\\rinta\\anaconda3\\lib\\site-packages (from scikit-learn->neural_mi==1.0.0) (1.4.2)\n",
      "Requirement already satisfied: threadpoolctl>=3.1.0 in c:\\users\\rinta\\anaconda3\\lib\\site-packages (from scikit-learn->neural_mi==1.0.0) (3.5.0)\n",
      "Requirement already satisfied: patsy>=0.5.6 in c:\\users\\rinta\\anaconda3\\lib\\site-packages (from statsmodels->neural_mi==1.0.0) (0.5.6)\n",
      "Requirement already satisfied: filelock in c:\\users\\rinta\\anaconda3\\lib\\site-packages (from torch->neural_mi==1.0.0) (3.13.1)\n",
      "Requirement already satisfied: typing-extensions>=4.10.0 in c:\\users\\rinta\\anaconda3\\lib\\site-packages (from torch->neural_mi==1.0.0) (4.11.0)\n",
      "Requirement already satisfied: sympy>=1.13.3 in c:\\users\\rinta\\anaconda3\\lib\\site-packages (from torch->neural_mi==1.0.0) (1.14.0)\n",
      "Requirement already satisfied: networkx in c:\\users\\rinta\\anaconda3\\lib\\site-packages (from torch->neural_mi==1.0.0) (3.3)\n",
      "Requirement already satisfied: jinja2 in c:\\users\\rinta\\anaconda3\\lib\\site-packages (from torch->neural_mi==1.0.0) (3.1.4)\n",
      "Requirement already satisfied: fsspec in c:\\users\\rinta\\anaconda3\\lib\\site-packages (from torch->neural_mi==1.0.0) (2024.6.1)\n",
      "Requirement already satisfied: setuptools in c:\\users\\rinta\\anaconda3\\lib\\site-packages (from torch->neural_mi==1.0.0) (75.1.0)\n",
      "Requirement already satisfied: colorama in c:\\users\\rinta\\anaconda3\\lib\\site-packages (from tqdm->neural_mi==1.0.0) (0.4.6)\n",
      "Requirement already satisfied: six in c:\\users\\rinta\\anaconda3\\lib\\site-packages (from patsy>=0.5.6->statsmodels->neural_mi==1.0.0) (1.16.0)\n",
      "Requirement already satisfied: mpmath<1.4,>=1.1.0 in c:\\users\\rinta\\anaconda3\\lib\\site-packages (from sympy>=1.13.3->torch->neural_mi==1.0.0) (1.3.0)\n",
      "Requirement already satisfied: MarkupSafe>=2.0 in c:\\users\\rinta\\anaconda3\\lib\\site-packages (from jinja2->torch->neural_mi==1.0.0) (2.1.3)\n"
     ]
    },
    {
     "name": "stderr",
     "output_type": "stream",
     "text": [
      "  Running command git clone --filter=blob:none --quiet https://github.com/eslam-abdelaleem/NeuralMI.git 'C:\\Users\\Rinta\\AppData\\Local\\Temp\\pip-req-build-os8q0am9'\n"
     ]
    }
   ],
   "source": [
    "!pip install git+https://github.com/eslam-abdelaleem/NeuralMI.git"
   ]
  }
 ],
 "metadata": {
  "kernelspec": {
   "display_name": "base",
   "language": "python",
   "name": "python3"
  },
  "language_info": {
   "codemirror_mode": {
    "name": "ipython",
    "version": 3
   },
   "file_extension": ".py",
   "mimetype": "text/x-python",
   "name": "python",
   "nbconvert_exporter": "python",
   "pygments_lexer": "ipython3",
   "version": "3.12.7"
  }
 },
 "nbformat": 4,
 "nbformat_minor": 5
}
